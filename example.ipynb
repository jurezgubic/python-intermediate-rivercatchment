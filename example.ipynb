{
 "cells": [
  {
   "cell_type": "code",
   "execution_count": 8,
   "metadata": {},
   "outputs": [],
   "source": [
    "import math\n",
    "class Circle:\n",
    "     def __init__(self, radius):\n",
    "          self.radius = radius\n",
    "     def get_area(self):\n",
    "          return math.pi * self.radius *self.radius"
   ]
  },
  {
   "cell_type": "code",
   "execution_count": 15,
   "metadata": {},
   "outputs": [
    {
     "name": "stdout",
     "output_type": "stream",
     "text": [
      "10\n",
      "314.1592653589793\n"
     ]
    }
   ],
   "source": [
    "my_circle = Circle(10)\n",
    "print(my_circle.radius)\n",
    "print(my_circle.get_area())"
   ]
  },
  {
   "cell_type": "code",
   "execution_count": 16,
   "metadata": {},
   "outputs": [],
   "source": [
    "class Rectangle:\n",
    "    def __init__(self, width, height):\n",
    "        self.width = width\n",
    "        self.height = height\n",
    "    def get_area(self):\n",
    "        return  self.width * self.height"
   ]
  },
  {
   "cell_type": "code",
   "execution_count": 19,
   "metadata": {},
   "outputs": [
    {
     "name": "stdout",
     "output_type": "stream",
     "text": [
      "10\n",
      "314.1592653589793\n",
      "329.1592653589793\n"
     ]
    }
   ],
   "source": [
    "my_circle = Circle(10)\n",
    "print(my_circle.radius)\n",
    "print(my_circle.get_area())\n",
    "my_rectangle = Rectangle(width=5, height=3)\n",
    "my_shapes =[my_circle, my_rectangle]\n",
    "total_area = sum(shape.get_area() for shape in my_shapes)\n",
    "\n",
    "print(total_area)"
   ]
  },
  {
   "cell_type": "code",
   "execution_count": null,
   "metadata": {},
   "outputs": [],
   "source": []
  }
 ],
 "metadata": {
  "kernelspec": {
   "display_name": "venv",
   "language": "python",
   "name": "python3"
  },
  "language_info": {
   "codemirror_mode": {
    "name": "ipython",
    "version": 3
   },
   "file_extension": ".py",
   "mimetype": "text/x-python",
   "name": "python",
   "nbconvert_exporter": "python",
   "pygments_lexer": "ipython3",
   "version": "3.12.2"
  }
 },
 "nbformat": 4,
 "nbformat_minor": 2
}
